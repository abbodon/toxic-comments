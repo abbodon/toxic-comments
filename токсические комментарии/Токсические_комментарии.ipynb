{
  "cells": [
    {
      "cell_type": "markdown",
      "metadata": {
        "toc": true,
        "id": "XMKICgeKrIfC"
      },
      "source": [
        "<h1>Содержание<span class=\"tocSkip\"></span></h1>\n",
        "><a href=\"#Подготовка\" data-toc-modified-id=\"Подготовка-1\"><span class=\"toc-item-num\">1&nbsp;&nbsp;</span>Подготовка</a></span></li><li><span><a href=\"#Обучение\" data-toc-modified-id=\"Обучение-2\"><span class=\"toc-item-num\">2&nbsp;&nbsp;</span>Обучение</a></span><ul class=\"toc-item\"><li><span><a href=\"#Случайный-лес\" data-toc-modified-id=\"Случайный-лес-2.1\"><span class=\"toc-item-num\">2.1&nbsp;&nbsp;</span>Случайный лес</a></span></li><li><span><a href=\"#Логистическая-регрессия\" data-toc-modified-id=\"Логистическая-регрессия-2.2\"><span class=\"toc-item-num\">2.2&nbsp;&nbsp;</span>Логистическая регрессия</a></span><ul class=\"toc-item\"><li><span><a href=\"#Логистическая-регрессия-без-баланса\" data-toc-modified-id=\"Логистическая-регрессия-без-баланса-2.2.1\"><span class=\"toc-item-num\">2.2.1&nbsp;&nbsp;</span>Логистическая регрессия без баланса</a></span></li><li><span><a href=\"#Логистическая-регрессия-с-балансом\" data-toc-modified-id=\"Логистическая-регрессия-с-балансом-2.2.2\"><span class=\"toc-item-num\">2.2.2&nbsp;&nbsp;</span>Логистическая регрессия с балансом</a></span></li></ul></li></ul></li><li><span><a href=\"#Выводы\" data-toc-modified-id=\"Выводы-3\"><span class=\"toc-item-num\">3&nbsp;&nbsp;</span>Выводы</a></span></li><li><span><a href=\"#Чек-лист-проверки\" data-toc-modified-id=\"Чек-лист-проверки-4\"><span class=\"toc-item-num\">4&nbsp;&nbsp;</span>Чек-лист проверки</a></span></li></ul></div>"
      ]
    },
    {
      "cell_type": "markdown",
      "metadata": {
        "id": "ptdPRSodrIfD"
      },
      "source": [
        "Наша задача построить модель для определения токсичных комментариев на основе комментов предложенных заказчиком. При этом метрики качества F1 не меньше 0.75. Работать будем не с BERT."
      ]
    },
    {
      "cell_type": "markdown",
      "metadata": {
        "id": "KDohRgNArIfD"
      },
      "source": [
        "## Подготовка"
      ]
    },
    {
      "cell_type": "code",
      "execution_count": null,
      "metadata": {
        "id": "96eHVmw8rIfE"
      },
      "outputs": [],
      "source": [
        "import pandas as pd\n",
        "import re\n",
        "import nltk\n",
        "import numpy as np\n",
        "from nltk.corpus import stopwords\n",
        "from nltk.corpus import wordnet\n",
        "from nltk.stem import WordNetLemmatizer\n",
        "from sklearn.model_selection import train_test_split\n",
        "from sklearn.linear_model import LogisticRegression\n",
        "from sklearn.model_selection import GridSearchCV\n",
        "from sklearn.metrics import f1_score\n",
        "from sklearn.pipeline import Pipeline\n",
        "from sklearn.ensemble import RandomForestClassifier\n",
        "from sklearn.feature_extraction.text import TfidfVectorizer\n",
        "from sklearn.tree import DecisionTreeRegressor\n",
        "# импортируем библиотеки"
      ]
    },
    {
      "cell_type": "code",
      "execution_count": null,
      "metadata": {
        "id": "Qv7jwaberIfG",
        "outputId": "1c04f4aa-6331-4bac-dfb3-b194a7d33f5c"
      },
      "outputs": [
        {
          "name": "stderr",
          "output_type": "stream",
          "text": [
            "[nltk_data] Downloading package stopwords to /home/jovyan/nltk_data...\n",
            "[nltk_data]   Package stopwords is already up-to-date!\n",
            "[nltk_data] Downloading package averaged_perceptron_tagger to\n",
            "[nltk_data]     /home/jovyan/nltk_data...\n",
            "[nltk_data]   Unzipping taggers/averaged_perceptron_tagger.zip.\n",
            "[nltk_data] Downloading package wordnet to /home/jovyan/nltk_data...\n",
            "[nltk_data]   Package wordnet is already up-to-date!\n"
          ]
        },
        {
          "data": {
            "text/plain": [
              "True"
            ]
          },
          "execution_count": 32,
          "metadata": {},
          "output_type": "execute_result"
        }
      ],
      "source": [
        "nltk.download('stopwords')\n",
        "nltk.download('averaged_perceptron_tagger')\n",
        "nltk.download('wordnet') # скачиваем нужные материалы."
      ]
    },
    {
      "cell_type": "code",
      "execution_count": null,
      "metadata": {
        "id": "TKAxUzg9rIfH",
        "outputId": "99a9acd1-98be-44ee-f9d7-fe3f945206e5"
      },
      "outputs": [
        {
          "data": {
            "text/html": [
              "<div>\n",
              "<style scoped>\n",
              "    .dataframe tbody tr th:only-of-type {\n",
              "        vertical-align: middle;\n",
              "    }\n",
              "\n",
              "    .dataframe tbody tr th {\n",
              "        vertical-align: top;\n",
              "    }\n",
              "\n",
              "    .dataframe thead th {\n",
              "        text-align: right;\n",
              "    }\n",
              "</style>\n",
              "<table border=\"1\" class=\"dataframe\">\n",
              "  <thead>\n",
              "    <tr style=\"text-align: right;\">\n",
              "      <th></th>\n",
              "      <th>Unnamed: 0</th>\n",
              "      <th>text</th>\n",
              "      <th>toxic</th>\n",
              "    </tr>\n",
              "  </thead>\n",
              "  <tbody>\n",
              "    <tr>\n",
              "      <th>0</th>\n",
              "      <td>0</td>\n",
              "      <td>Explanation\\nWhy the edits made under my usern...</td>\n",
              "      <td>0</td>\n",
              "    </tr>\n",
              "    <tr>\n",
              "      <th>1</th>\n",
              "      <td>1</td>\n",
              "      <td>D'aww! He matches this background colour I'm s...</td>\n",
              "      <td>0</td>\n",
              "    </tr>\n",
              "    <tr>\n",
              "      <th>2</th>\n",
              "      <td>2</td>\n",
              "      <td>Hey man, I'm really not trying to edit war. It...</td>\n",
              "      <td>0</td>\n",
              "    </tr>\n",
              "    <tr>\n",
              "      <th>3</th>\n",
              "      <td>3</td>\n",
              "      <td>\"\\nMore\\nI can't make any real suggestions on ...</td>\n",
              "      <td>0</td>\n",
              "    </tr>\n",
              "    <tr>\n",
              "      <th>4</th>\n",
              "      <td>4</td>\n",
              "      <td>You, sir, are my hero. Any chance you remember...</td>\n",
              "      <td>0</td>\n",
              "    </tr>\n",
              "  </tbody>\n",
              "</table>\n",
              "</div>"
            ],
            "text/plain": [
              "   Unnamed: 0                                               text  toxic\n",
              "0           0  Explanation\\nWhy the edits made under my usern...      0\n",
              "1           1  D'aww! He matches this background colour I'm s...      0\n",
              "2           2  Hey man, I'm really not trying to edit war. It...      0\n",
              "3           3  \"\\nMore\\nI can't make any real suggestions on ...      0\n",
              "4           4  You, sir, are my hero. Any chance you remember...      0"
            ]
          },
          "execution_count": 4,
          "metadata": {},
          "output_type": "execute_result"
        }
      ],
      "source": [
        "data.head() # Смотрим данные."
      ]
    },
    {
      "cell_type": "code",
      "execution_count": null,
      "metadata": {
        "id": "2jK6zlr6rIfH",
        "outputId": "d6af0bfa-0f80-4732-bc14-e0ca7b8adcd3"
      },
      "outputs": [
        {
          "data": {
            "text/plain": [
              "0"
            ]
          },
          "execution_count": 5,
          "metadata": {},
          "output_type": "execute_result"
        }
      ],
      "source": [
        "data['text'].duplicated().sum()\n",
        "# Смотрим если дубликаты строк"
      ]
    },
    {
      "cell_type": "code",
      "execution_count": null,
      "metadata": {
        "id": "SbCjo0mxrIfI",
        "outputId": "8143d023-2566-47b1-c4c3-eda8f2b01087"
      },
      "outputs": [
        {
          "name": "stdout",
          "output_type": "stream",
          "text": [
            "<class 'pandas.core.frame.DataFrame'>\n",
            "RangeIndex: 159292 entries, 0 to 159291\n",
            "Data columns (total 3 columns):\n",
            " #   Column      Non-Null Count   Dtype \n",
            "---  ------      --------------   ----- \n",
            " 0   Unnamed: 0  159292 non-null  int64 \n",
            " 1   text        159292 non-null  object\n",
            " 2   toxic       159292 non-null  int64 \n",
            "dtypes: int64(2), object(1)\n",
            "memory usage: 3.6+ MB\n"
          ]
        }
      ],
      "source": [
        "data.info() # Количество записей 159292"
      ]
    },
    {
      "cell_type": "code",
      "execution_count": null,
      "metadata": {
        "id": "xqh54TeqrIfI",
        "outputId": "4e97ee3f-5964-44af-b4bb-55610f3383d9"
      },
      "outputs": [
        {
          "data": {
            "text/plain": [
              "count    159292.000000\n",
              "mean          0.101612\n",
              "std           0.302139\n",
              "min           0.000000\n",
              "25%           0.000000\n",
              "50%           0.000000\n",
              "75%           0.000000\n",
              "max           1.000000\n",
              "Name: toxic, dtype: float64"
            ]
          },
          "execution_count": 7,
          "metadata": {},
          "output_type": "execute_result"
        }
      ],
      "source": [
        "data['toxic'].describe() # 10 процентов токсичных"
      ]
    },
    {
      "cell_type": "code",
      "execution_count": null,
      "metadata": {
        "id": "bECGA65QrIfI"
      },
      "outputs": [],
      "source": [
        "data = data.drop('Unnamed: 0', axis=1)"
      ]
    },
    {
      "cell_type": "code",
      "execution_count": null,
      "metadata": {
        "id": "QWuimwZwrIfJ"
      },
      "outputs": [],
      "source": [
        "# Инициализация стоп-слов\n",
        "stop_words = list(stopwords.words('english'))"
      ]
    },
    {
      "cell_type": "code",
      "execution_count": null,
      "metadata": {
        "id": "2FFloyVWrIfJ"
      },
      "outputs": [],
      "source": [
        "# Инициализация лемматизатора\n",
        "lemmatizer = WordNetLemmatizer()"
      ]
    },
    {
      "cell_type": "code",
      "execution_count": null,
      "metadata": {
        "id": "qEFGOiCrrIfJ"
      },
      "outputs": [],
      "source": [
        "def get_wordnet_pos(word):\n",
        "    \"\"\"Map POS tag to first character lemmatize() accepts\"\"\"\n",
        "    tag = nltk.pos_tag([word])[0][1][0].upper()\n",
        "    tag_dict = {\"J\": wordnet.ADJ,\n",
        "                \"N\": wordnet.NOUN,\n",
        "                \"V\": wordnet.VERB,\n",
        "                \"R\": wordnet.ADV}\n",
        "    return tag_dict.get(tag, wordnet.NOUN)"
      ]
    },
    {
      "cell_type": "code",
      "execution_count": null,
      "metadata": {
        "id": "mlP_4fskrIfJ"
      },
      "outputs": [],
      "source": [
        "def preprocess_text(text):\n",
        "    # Приведение к нижнему регистру\n",
        "    text = text.lower()\n",
        "    # Удаление знаков пунктуации\n",
        "    text = re.sub(r'[^\\w\\s]', '', text)\n",
        "    # Удаление цифр\n",
        "    text = re.sub(r'\\d+', '', text)\n",
        "    # Токенизация\n",
        "    tokens = nltk.tokenize.word_tokenize(text)\n",
        "    # Удаление стоп-слов и лемматизация\n",
        "    tokens = [lemmatizer.lemmatize(token, get_wordnet_pos(token)) for token in tokens if token not in stop_words]\n",
        "    # Объединение токенов в строку\n",
        "    text = ' '.join(tokens)\n",
        "    return text"
      ]
    },
    {
      "cell_type": "code",
      "execution_count": null,
      "metadata": {
        "id": "cBuwU4cirIfK"
      },
      "outputs": [],
      "source": [
        "# Применение предобработки к колонке \"text\"\n",
        "data['lemma_text'] = data['text'].apply(preprocess_text)"
      ]
    },
    {
      "cell_type": "code",
      "execution_count": null,
      "metadata": {
        "id": "gqgv0R1KrIfK",
        "outputId": "5f2e65f9-01ad-44f4-fc3c-d5ac7f63811e"
      },
      "outputs": [
        {
          "data": {
            "text/html": [
              "<div>\n",
              "<style scoped>\n",
              "    .dataframe tbody tr th:only-of-type {\n",
              "        vertical-align: middle;\n",
              "    }\n",
              "\n",
              "    .dataframe tbody tr th {\n",
              "        vertical-align: top;\n",
              "    }\n",
              "\n",
              "    .dataframe thead th {\n",
              "        text-align: right;\n",
              "    }\n",
              "</style>\n",
              "<table border=\"1\" class=\"dataframe\">\n",
              "  <thead>\n",
              "    <tr style=\"text-align: right;\">\n",
              "      <th></th>\n",
              "      <th>text</th>\n",
              "      <th>toxic</th>\n",
              "      <th>lemma_text</th>\n",
              "    </tr>\n",
              "  </thead>\n",
              "  <tbody>\n",
              "    <tr>\n",
              "      <th>0</th>\n",
              "      <td>Explanation\\nWhy the edits made under my usern...</td>\n",
              "      <td>0</td>\n",
              "      <td>explanation edits make username hardcore metal...</td>\n",
              "    </tr>\n",
              "    <tr>\n",
              "      <th>1</th>\n",
              "      <td>D'aww! He matches this background colour I'm s...</td>\n",
              "      <td>0</td>\n",
              "      <td>daww match background colour im seemingly stuc...</td>\n",
              "    </tr>\n",
              "    <tr>\n",
              "      <th>2</th>\n",
              "      <td>Hey man, I'm really not trying to edit war. It...</td>\n",
              "      <td>0</td>\n",
              "      <td>hey man im really try edit war guy constantly ...</td>\n",
              "    </tr>\n",
              "    <tr>\n",
              "      <th>3</th>\n",
              "      <td>\"\\nMore\\nI can't make any real suggestions on ...</td>\n",
              "      <td>0</td>\n",
              "      <td>cant make real suggestion improvement wonder s...</td>\n",
              "    </tr>\n",
              "    <tr>\n",
              "      <th>4</th>\n",
              "      <td>You, sir, are my hero. Any chance you remember...</td>\n",
              "      <td>0</td>\n",
              "      <td>sir hero chance remember page thats</td>\n",
              "    </tr>\n",
              "  </tbody>\n",
              "</table>\n",
              "</div>"
            ],
            "text/plain": [
              "                                                text  toxic  \\\n",
              "0  Explanation\\nWhy the edits made under my usern...      0   \n",
              "1  D'aww! He matches this background colour I'm s...      0   \n",
              "2  Hey man, I'm really not trying to edit war. It...      0   \n",
              "3  \"\\nMore\\nI can't make any real suggestions on ...      0   \n",
              "4  You, sir, are my hero. Any chance you remember...      0   \n",
              "\n",
              "                                          lemma_text  \n",
              "0  explanation edits make username hardcore metal...  \n",
              "1  daww match background colour im seemingly stuc...  \n",
              "2  hey man im really try edit war guy constantly ...  \n",
              "3  cant make real suggestion improvement wonder s...  \n",
              "4                sir hero chance remember page thats  "
            ]
          },
          "execution_count": 35,
          "metadata": {},
          "output_type": "execute_result"
        }
      ],
      "source": [
        "data.head() # Смотрим данные."
      ]
    },
    {
      "cell_type": "code",
      "execution_count": null,
      "metadata": {
        "id": "Ybk59cUZrIfK"
      },
      "outputs": [],
      "source": [
        "features = data['lemma_text'] # выделяем признаки и целевой признак\n",
        "target = data['toxic']"
      ]
    },
    {
      "cell_type": "code",
      "execution_count": null,
      "metadata": {
        "id": "_bEq1WgTrIfK"
      },
      "outputs": [],
      "source": [
        "# Разделение на обучающую и тестовую выборки c stratify=target\n",
        "X_train, X_test, y_train, y_test = train_test_split(\n",
        "    features,\n",
        "    target,\n",
        "    test_size=0.2,\n",
        "    random_state=12345,\n",
        "    stratify=target\n",
        ")"
      ]
    },
    {
      "cell_type": "code",
      "execution_count": null,
      "metadata": {
        "id": "yUUqhJNjrIfL"
      },
      "outputs": [],
      "source": [
        "vectorizer = TfidfVectorizer(stop_words=stop_words)\n",
        "\n",
        "X_train_features = vectorizer.fit_transform(X_train)\n",
        "\n",
        "# Преобразование тестовой выборки с использованием тех же признаков\n",
        "X_test_features = vectorizer.transform(X_test)"
      ]
    },
    {
      "cell_type": "code",
      "execution_count": null,
      "metadata": {
        "id": "PeWwWFYLrIfL",
        "outputId": "73c5708d-bdbd-471f-d5d6-d0aadc1b9810"
      },
      "outputs": [
        {
          "data": {
            "text/plain": [
              "(127433, 179644)"
            ]
          },
          "execution_count": 39,
          "metadata": {},
          "output_type": "execute_result"
        }
      ],
      "source": [
        "X_train_features.shape # размер матрицы"
      ]
    },
    {
      "cell_type": "markdown",
      "metadata": {
        "id": "dosoe1lUrIfL"
      },
      "source": [
        "Данные рассмотрели, преобразовали в нужный вид и теперь они готовы к обучению."
      ]
    },
    {
      "cell_type": "markdown",
      "metadata": {
        "id": "p6VXMG3LrIfL"
      },
      "source": [
        "## Обучение"
      ]
    },
    {
      "cell_type": "markdown",
      "metadata": {
        "id": "evog5_QIrIfL"
      },
      "source": [
        "### Случайный лес"
      ]
    },
    {
      "cell_type": "code",
      "execution_count": null,
      "metadata": {
        "id": "Ek5KL9U0rIfL"
      },
      "outputs": [],
      "source": [
        "pipe = Pipeline([\n",
        "    ('tfid',TfidfVectorizer(stop_words=stop_words)),\n",
        "    ('model_rf', RandomForestClassifier(random_state=12345))\n",
        "])"
      ]
    },
    {
      "cell_type": "code",
      "execution_count": null,
      "metadata": {
        "id": "phiPTMjwrIfM",
        "outputId": "eb581cda-8471-44e1-9426-7b570d1ef36c"
      },
      "outputs": [
        {
          "name": "stdout",
          "output_type": "stream",
          "text": [
            "Лучшие параметры для случайного леса: {'model_rf__max_depth': 4, 'model_rf__n_estimators': 50}\n",
            "Оценка кацества модели f1_score: 0.0\n"
          ]
        }
      ],
      "source": [
        "params = {'model_rf__max_depth':range(4,10),\n",
        "          'model_rf__n_estimators': range(50, 100, 10)\n",
        "         }\n",
        "grid_rf = GridSearchCV(pipe, params, cv=3, scoring='f1', n_jobs=-1)\n",
        "grid_rf.fit(X_train, y_train);\n",
        "print('Лучшие параметры для случайного леса:', grid_rf.best_params_)\n",
        "print('Оценка кацества модели f1_score:', grid_rf.best_score_)"
      ]
    },
    {
      "cell_type": "markdown",
      "metadata": {
        "id": "kSLBOPvnrIfM"
      },
      "source": [
        "Возможно, лес предсказывает для всех входов один и тот же класс, поэтому f1=0. То есть модель ничего хорошего выучить просто не смогла"
      ]
    },
    {
      "cell_type": "markdown",
      "metadata": {
        "id": "X5o9nQharIfM"
      },
      "source": [
        "### Логистическая регрессия"
      ]
    },
    {
      "cell_type": "markdown",
      "metadata": {
        "id": "pjE7jAOIrIfQ"
      },
      "source": [
        "#### Логистическая регрессия без баланса"
      ]
    },
    {
      "cell_type": "code",
      "execution_count": null,
      "metadata": {
        "id": "IQVdAHodrIfQ"
      },
      "outputs": [],
      "source": [
        "pipe = Pipeline([\n",
        "    ('tfid',TfidfVectorizer(stop_words=stop_words)),\n",
        "    ('model_lr', LogisticRegression(random_state=12345))\n",
        "])"
      ]
    },
    {
      "cell_type": "code",
      "execution_count": null,
      "metadata": {
        "id": "u2rxgwhsrIfR",
        "outputId": "8bd5639b-c2f8-4de6-a02b-fcfd55d86398"
      },
      "outputs": [
        {
          "name": "stdout",
          "output_type": "stream",
          "text": [
            "Лучшие параметры для LogisticRegression: {'model_lr__C': 10, 'model_lr__max_iter': 500}\n",
            "Оценка кацества модели f1: 0.7655589674357776\n"
          ]
        }
      ],
      "source": [
        "parameters = {'model_lr__C':[0.01, 0.1, 1, 10, 100],\n",
        "              'model_lr__max_iter':[500]}\n",
        "grid = GridSearchCV(pipe, parameters, cv=3, scoring='f1', n_jobs=-1)\n",
        "grid.fit(X_train, y_train);\n",
        "print('Лучшие параметры для LogisticRegression:', grid.best_params_)\n",
        "print('Оценка кацества модели f1:', grid.best_score_)"
      ]
    },
    {
      "cell_type": "markdown",
      "metadata": {
        "id": "NYBzSoeurIfR"
      },
      "source": [
        "Лучшие параметры для LogisticRegression: {'model_lr__C': 10, 'model_lr__penalty': 'l2'}  \n",
        "Оценка кацества модели f1: 0.7655589674357776"
      ]
    },
    {
      "cell_type": "markdown",
      "metadata": {
        "id": "ArliiiFGrIfR"
      },
      "source": [
        "#### Логистическая регрессия с балансом"
      ]
    },
    {
      "cell_type": "code",
      "execution_count": null,
      "metadata": {
        "id": "EllB3Z5nrIfR",
        "outputId": "c0f454dd-cfbc-47b7-98ba-d5591f55d554"
      },
      "outputs": [
        {
          "name": "stderr",
          "output_type": "stream",
          "text": [
            "/opt/conda/lib/python3.9/site-packages/sklearn/linear_model/_logistic.py:1322: UserWarning: Setting penalty='none' will ignore the C and l1_ratio parameters\n",
            "  warnings.warn(\n",
            "/opt/conda/lib/python3.9/site-packages/sklearn/linear_model/_logistic.py:763: ConvergenceWarning: lbfgs failed to converge (status=1):\n",
            "STOP: TOTAL NO. of ITERATIONS REACHED LIMIT.\n",
            "\n",
            "Increase the number of iterations (max_iter) or scale the data as shown in:\n",
            "    https://scikit-learn.org/stable/modules/preprocessing.html\n",
            "Please also refer to the documentation for alternative solver options:\n",
            "    https://scikit-learn.org/stable/modules/linear_model.html#logistic-regression\n",
            "  n_iter_i = _check_optimize_result(\n",
            "/opt/conda/lib/python3.9/site-packages/sklearn/linear_model/_logistic.py:1322: UserWarning: Setting penalty='none' will ignore the C and l1_ratio parameters\n",
            "  warnings.warn(\n",
            "/opt/conda/lib/python3.9/site-packages/sklearn/linear_model/_logistic.py:763: ConvergenceWarning: lbfgs failed to converge (status=1):\n",
            "STOP: TOTAL NO. of ITERATIONS REACHED LIMIT.\n",
            "\n",
            "Increase the number of iterations (max_iter) or scale the data as shown in:\n",
            "    https://scikit-learn.org/stable/modules/preprocessing.html\n",
            "Please also refer to the documentation for alternative solver options:\n",
            "    https://scikit-learn.org/stable/modules/linear_model.html#logistic-regression\n",
            "  n_iter_i = _check_optimize_result(\n",
            "/opt/conda/lib/python3.9/site-packages/sklearn/linear_model/_logistic.py:1322: UserWarning: Setting penalty='none' will ignore the C and l1_ratio parameters\n",
            "  warnings.warn(\n",
            "/opt/conda/lib/python3.9/site-packages/sklearn/linear_model/_logistic.py:763: ConvergenceWarning: lbfgs failed to converge (status=1):\n",
            "STOP: TOTAL NO. of ITERATIONS REACHED LIMIT.\n",
            "\n",
            "Increase the number of iterations (max_iter) or scale the data as shown in:\n",
            "    https://scikit-learn.org/stable/modules/preprocessing.html\n",
            "Please also refer to the documentation for alternative solver options:\n",
            "    https://scikit-learn.org/stable/modules/linear_model.html#logistic-regression\n",
            "  n_iter_i = _check_optimize_result(\n",
            "/opt/conda/lib/python3.9/site-packages/sklearn/linear_model/_logistic.py:1322: UserWarning: Setting penalty='none' will ignore the C and l1_ratio parameters\n",
            "  warnings.warn(\n",
            "/opt/conda/lib/python3.9/site-packages/sklearn/linear_model/_logistic.py:763: ConvergenceWarning: lbfgs failed to converge (status=1):\n",
            "STOP: TOTAL NO. of ITERATIONS REACHED LIMIT.\n",
            "\n",
            "Increase the number of iterations (max_iter) or scale the data as shown in:\n",
            "    https://scikit-learn.org/stable/modules/preprocessing.html\n",
            "Please also refer to the documentation for alternative solver options:\n",
            "    https://scikit-learn.org/stable/modules/linear_model.html#logistic-regression\n",
            "  n_iter_i = _check_optimize_result(\n",
            "/opt/conda/lib/python3.9/site-packages/sklearn/linear_model/_logistic.py:1322: UserWarning: Setting penalty='none' will ignore the C and l1_ratio parameters\n",
            "  warnings.warn(\n",
            "/opt/conda/lib/python3.9/site-packages/sklearn/linear_model/_logistic.py:763: ConvergenceWarning: lbfgs failed to converge (status=1):\n",
            "STOP: TOTAL NO. of ITERATIONS REACHED LIMIT.\n",
            "\n",
            "Increase the number of iterations (max_iter) or scale the data as shown in:\n",
            "    https://scikit-learn.org/stable/modules/preprocessing.html\n",
            "Please also refer to the documentation for alternative solver options:\n",
            "    https://scikit-learn.org/stable/modules/linear_model.html#logistic-regression\n",
            "  n_iter_i = _check_optimize_result(\n",
            "/opt/conda/lib/python3.9/site-packages/sklearn/linear_model/_logistic.py:1322: UserWarning: Setting penalty='none' will ignore the C and l1_ratio parameters\n",
            "  warnings.warn(\n",
            "/opt/conda/lib/python3.9/site-packages/sklearn/linear_model/_logistic.py:763: ConvergenceWarning: lbfgs failed to converge (status=1):\n",
            "STOP: TOTAL NO. of ITERATIONS REACHED LIMIT.\n",
            "\n",
            "Increase the number of iterations (max_iter) or scale the data as shown in:\n",
            "    https://scikit-learn.org/stable/modules/preprocessing.html\n",
            "Please also refer to the documentation for alternative solver options:\n",
            "    https://scikit-learn.org/stable/modules/linear_model.html#logistic-regression\n",
            "  n_iter_i = _check_optimize_result(\n",
            "/opt/conda/lib/python3.9/site-packages/sklearn/linear_model/_logistic.py:763: ConvergenceWarning: lbfgs failed to converge (status=1):\n",
            "STOP: TOTAL NO. of ITERATIONS REACHED LIMIT.\n",
            "\n",
            "Increase the number of iterations (max_iter) or scale the data as shown in:\n",
            "    https://scikit-learn.org/stable/modules/preprocessing.html\n",
            "Please also refer to the documentation for alternative solver options:\n",
            "    https://scikit-learn.org/stable/modules/linear_model.html#logistic-regression\n",
            "  n_iter_i = _check_optimize_result(\n",
            "/opt/conda/lib/python3.9/site-packages/sklearn/linear_model/_logistic.py:763: ConvergenceWarning: lbfgs failed to converge (status=1):\n",
            "STOP: TOTAL NO. of ITERATIONS REACHED LIMIT.\n",
            "\n",
            "Increase the number of iterations (max_iter) or scale the data as shown in:\n",
            "    https://scikit-learn.org/stable/modules/preprocessing.html\n",
            "Please also refer to the documentation for alternative solver options:\n",
            "    https://scikit-learn.org/stable/modules/linear_model.html#logistic-regression\n",
            "  n_iter_i = _check_optimize_result(\n",
            "/opt/conda/lib/python3.9/site-packages/sklearn/linear_model/_logistic.py:763: ConvergenceWarning: lbfgs failed to converge (status=1):\n",
            "STOP: TOTAL NO. of ITERATIONS REACHED LIMIT.\n",
            "\n",
            "Increase the number of iterations (max_iter) or scale the data as shown in:\n",
            "    https://scikit-learn.org/stable/modules/preprocessing.html\n",
            "Please also refer to the documentation for alternative solver options:\n",
            "    https://scikit-learn.org/stable/modules/linear_model.html#logistic-regression\n",
            "  n_iter_i = _check_optimize_result(\n",
            "/opt/conda/lib/python3.9/site-packages/sklearn/linear_model/_logistic.py:763: ConvergenceWarning: lbfgs failed to converge (status=1):\n",
            "STOP: TOTAL NO. of ITERATIONS REACHED LIMIT.\n",
            "\n",
            "Increase the number of iterations (max_iter) or scale the data as shown in:\n",
            "    https://scikit-learn.org/stable/modules/preprocessing.html\n",
            "Please also refer to the documentation for alternative solver options:\n",
            "    https://scikit-learn.org/stable/modules/linear_model.html#logistic-regression\n",
            "  n_iter_i = _check_optimize_result(\n",
            "/opt/conda/lib/python3.9/site-packages/sklearn/linear_model/_logistic.py:763: ConvergenceWarning: lbfgs failed to converge (status=1):\n",
            "STOP: TOTAL NO. of ITERATIONS REACHED LIMIT.\n",
            "\n",
            "Increase the number of iterations (max_iter) or scale the data as shown in:\n",
            "    https://scikit-learn.org/stable/modules/preprocessing.html\n",
            "Please also refer to the documentation for alternative solver options:\n",
            "    https://scikit-learn.org/stable/modules/linear_model.html#logistic-regression\n",
            "  n_iter_i = _check_optimize_result(\n",
            "/opt/conda/lib/python3.9/site-packages/sklearn/linear_model/_logistic.py:763: ConvergenceWarning: lbfgs failed to converge (status=1):\n",
            "STOP: TOTAL NO. of ITERATIONS REACHED LIMIT.\n",
            "\n",
            "Increase the number of iterations (max_iter) or scale the data as shown in:\n",
            "    https://scikit-learn.org/stable/modules/preprocessing.html\n",
            "Please also refer to the documentation for alternative solver options:\n",
            "    https://scikit-learn.org/stable/modules/linear_model.html#logistic-regression\n",
            "  n_iter_i = _check_optimize_result(\n",
            "/opt/conda/lib/python3.9/site-packages/sklearn/linear_model/_logistic.py:763: ConvergenceWarning: lbfgs failed to converge (status=1):\n",
            "STOP: TOTAL NO. of ITERATIONS REACHED LIMIT.\n",
            "\n",
            "Increase the number of iterations (max_iter) or scale the data as shown in:\n",
            "    https://scikit-learn.org/stable/modules/preprocessing.html\n",
            "Please also refer to the documentation for alternative solver options:\n",
            "    https://scikit-learn.org/stable/modules/linear_model.html#logistic-regression\n",
            "  n_iter_i = _check_optimize_result(\n",
            "/opt/conda/lib/python3.9/site-packages/sklearn/linear_model/_logistic.py:763: ConvergenceWarning: lbfgs failed to converge (status=1):\n",
            "STOP: TOTAL NO. of ITERATIONS REACHED LIMIT.\n",
            "\n",
            "Increase the number of iterations (max_iter) or scale the data as shown in:\n",
            "    https://scikit-learn.org/stable/modules/preprocessing.html\n",
            "Please also refer to the documentation for alternative solver options:\n",
            "    https://scikit-learn.org/stable/modules/linear_model.html#logistic-regression\n",
            "  n_iter_i = _check_optimize_result(\n",
            "/opt/conda/lib/python3.9/site-packages/sklearn/linear_model/_logistic.py:763: ConvergenceWarning: lbfgs failed to converge (status=1):\n",
            "STOP: TOTAL NO. of ITERATIONS REACHED LIMIT.\n",
            "\n",
            "Increase the number of iterations (max_iter) or scale the data as shown in:\n",
            "    https://scikit-learn.org/stable/modules/preprocessing.html\n",
            "Please also refer to the documentation for alternative solver options:\n",
            "    https://scikit-learn.org/stable/modules/linear_model.html#logistic-regression\n",
            "  n_iter_i = _check_optimize_result(\n",
            "/opt/conda/lib/python3.9/site-packages/sklearn/linear_model/_logistic.py:1322: UserWarning: Setting penalty='none' will ignore the C and l1_ratio parameters\n",
            "  warnings.warn(\n",
            "/opt/conda/lib/python3.9/site-packages/sklearn/linear_model/_logistic.py:763: ConvergenceWarning: lbfgs failed to converge (status=1):\n",
            "STOP: TOTAL NO. of ITERATIONS REACHED LIMIT.\n",
            "\n",
            "Increase the number of iterations (max_iter) or scale the data as shown in:\n",
            "    https://scikit-learn.org/stable/modules/preprocessing.html\n",
            "Please also refer to the documentation for alternative solver options:\n",
            "    https://scikit-learn.org/stable/modules/linear_model.html#logistic-regression\n",
            "  n_iter_i = _check_optimize_result(\n",
            "/opt/conda/lib/python3.9/site-packages/sklearn/linear_model/_logistic.py:1322: UserWarning: Setting penalty='none' will ignore the C and l1_ratio parameters\n",
            "  warnings.warn(\n",
            "/opt/conda/lib/python3.9/site-packages/sklearn/linear_model/_logistic.py:763: ConvergenceWarning: lbfgs failed to converge (status=1):\n",
            "STOP: TOTAL NO. of ITERATIONS REACHED LIMIT.\n",
            "\n",
            "Increase the number of iterations (max_iter) or scale the data as shown in:\n",
            "    https://scikit-learn.org/stable/modules/preprocessing.html\n",
            "Please also refer to the documentation for alternative solver options:\n",
            "    https://scikit-learn.org/stable/modules/linear_model.html#logistic-regression\n",
            "  n_iter_i = _check_optimize_result(\n",
            "/opt/conda/lib/python3.9/site-packages/sklearn/linear_model/_logistic.py:1322: UserWarning: Setting penalty='none' will ignore the C and l1_ratio parameters\n",
            "  warnings.warn(\n",
            "/opt/conda/lib/python3.9/site-packages/sklearn/linear_model/_logistic.py:763: ConvergenceWarning: lbfgs failed to converge (status=1):\n",
            "STOP: TOTAL NO. of ITERATIONS REACHED LIMIT.\n",
            "\n",
            "Increase the number of iterations (max_iter) or scale the data as shown in:\n",
            "    https://scikit-learn.org/stable/modules/preprocessing.html\n",
            "Please also refer to the documentation for alternative solver options:\n",
            "    https://scikit-learn.org/stable/modules/linear_model.html#logistic-regression\n",
            "  n_iter_i = _check_optimize_result(\n",
            "/opt/conda/lib/python3.9/site-packages/sklearn/linear_model/_logistic.py:763: ConvergenceWarning: lbfgs failed to converge (status=1):\n",
            "STOP: TOTAL NO. of ITERATIONS REACHED LIMIT.\n",
            "\n",
            "Increase the number of iterations (max_iter) or scale the data as shown in:\n",
            "    https://scikit-learn.org/stable/modules/preprocessing.html\n",
            "Please also refer to the documentation for alternative solver options:\n",
            "    https://scikit-learn.org/stable/modules/linear_model.html#logistic-regression\n",
            "  n_iter_i = _check_optimize_result(\n",
            "/opt/conda/lib/python3.9/site-packages/sklearn/linear_model/_logistic.py:763: ConvergenceWarning: lbfgs failed to converge (status=1):\n",
            "STOP: TOTAL NO. of ITERATIONS REACHED LIMIT.\n",
            "\n",
            "Increase the number of iterations (max_iter) or scale the data as shown in:\n",
            "    https://scikit-learn.org/stable/modules/preprocessing.html\n",
            "Please also refer to the documentation for alternative solver options:\n",
            "    https://scikit-learn.org/stable/modules/linear_model.html#logistic-regression\n",
            "  n_iter_i = _check_optimize_result(\n",
            "/opt/conda/lib/python3.9/site-packages/sklearn/linear_model/_logistic.py:763: ConvergenceWarning: lbfgs failed to converge (status=1):\n",
            "STOP: TOTAL NO. of ITERATIONS REACHED LIMIT.\n",
            "\n",
            "Increase the number of iterations (max_iter) or scale the data as shown in:\n",
            "    https://scikit-learn.org/stable/modules/preprocessing.html\n",
            "Please also refer to the documentation for alternative solver options:\n",
            "    https://scikit-learn.org/stable/modules/linear_model.html#logistic-regression\n",
            "  n_iter_i = _check_optimize_result(\n",
            "/opt/conda/lib/python3.9/site-packages/sklearn/linear_model/_logistic.py:1322: UserWarning: Setting penalty='none' will ignore the C and l1_ratio parameters\n",
            "  warnings.warn(\n",
            "/opt/conda/lib/python3.9/site-packages/sklearn/linear_model/_logistic.py:763: ConvergenceWarning: lbfgs failed to converge (status=1):\n",
            "STOP: TOTAL NO. of ITERATIONS REACHED LIMIT.\n",
            "\n",
            "Increase the number of iterations (max_iter) or scale the data as shown in:\n",
            "    https://scikit-learn.org/stable/modules/preprocessing.html\n",
            "Please also refer to the documentation for alternative solver options:\n",
            "    https://scikit-learn.org/stable/modules/linear_model.html#logistic-regression\n",
            "  n_iter_i = _check_optimize_result(\n",
            "/opt/conda/lib/python3.9/site-packages/sklearn/linear_model/_logistic.py:1322: UserWarning: Setting penalty='none' will ignore the C and l1_ratio parameters\n",
            "  warnings.warn(\n",
            "/opt/conda/lib/python3.9/site-packages/sklearn/linear_model/_logistic.py:763: ConvergenceWarning: lbfgs failed to converge (status=1):\n",
            "STOP: TOTAL NO. of ITERATIONS REACHED LIMIT.\n",
            "\n",
            "Increase the number of iterations (max_iter) or scale the data as shown in:\n",
            "    https://scikit-learn.org/stable/modules/preprocessing.html\n",
            "Please also refer to the documentation for alternative solver options:\n",
            "    https://scikit-learn.org/stable/modules/linear_model.html#logistic-regression\n",
            "  n_iter_i = _check_optimize_result(\n",
            "/opt/conda/lib/python3.9/site-packages/sklearn/linear_model/_logistic.py:1322: UserWarning: Setting penalty='none' will ignore the C and l1_ratio parameters\n",
            "  warnings.warn(\n",
            "/opt/conda/lib/python3.9/site-packages/sklearn/linear_model/_logistic.py:763: ConvergenceWarning: lbfgs failed to converge (status=1):\n",
            "STOP: TOTAL NO. of ITERATIONS REACHED LIMIT.\n",
            "\n",
            "Increase the number of iterations (max_iter) or scale the data as shown in:\n",
            "    https://scikit-learn.org/stable/modules/preprocessing.html\n",
            "Please also refer to the documentation for alternative solver options:\n",
            "    https://scikit-learn.org/stable/modules/linear_model.html#logistic-regression\n",
            "  n_iter_i = _check_optimize_result(\n"
          ]
        },
        {
          "name": "stdout",
          "output_type": "stream",
          "text": [
            "Лучшие параметры для LogisticRegression: {'model_lr__C': 10, 'model_lr__class_weight': 'balanced', 'model_lr__penalty': 'l2'}\n",
            "Оценка кацества модели f1: 0.7599526225566077\n"
          ]
        },
        {
          "name": "stderr",
          "output_type": "stream",
          "text": [
            "/opt/conda/lib/python3.9/site-packages/sklearn/linear_model/_logistic.py:763: ConvergenceWarning: lbfgs failed to converge (status=1):\n",
            "STOP: TOTAL NO. of ITERATIONS REACHED LIMIT.\n",
            "\n",
            "Increase the number of iterations (max_iter) or scale the data as shown in:\n",
            "    https://scikit-learn.org/stable/modules/preprocessing.html\n",
            "Please also refer to the documentation for alternative solver options:\n",
            "    https://scikit-learn.org/stable/modules/linear_model.html#logistic-regression\n",
            "  n_iter_i = _check_optimize_result(\n"
          ]
        }
      ],
      "source": [
        "parameters = {'model_lr__C':[0.01, 0.1, 1, 10, 100],\n",
        "              'model_lr__class_weight': ['balanced'],\n",
        "              'model_lr__max_iter':[500]\n",
        "             }\n",
        "grid = GridSearchCV(pipe, parameters, cv=3, scoring='f1', n_jobs=-1)\n",
        "grid.fit(X_train, y_train);\n",
        "print('Лучшие параметры для LogisticRegression:', grid.best_params_)\n",
        "print('Оценка кацества модели f1:', grid.best_score_)"
      ]
    },
    {
      "cell_type": "markdown",
      "metadata": {
        "id": "DgCg0pT9rIfR"
      },
      "source": [
        "Лучшие параметры для LogisticRegression: {'model_lr__C': 10, 'model_lr__class_weight': 'balanced', 'model_lr__penalty': 'l2'}\n",
        "Оценка кацества модели f1: 0.7599526225566077"
      ]
    },
    {
      "cell_type": "markdown",
      "metadata": {
        "id": "10APQT5HrIfS"
      },
      "source": [
        "Лучший результат показала модель логистичекая регрессия без баланса при f1= 0.7655285650892871. Не использовал модели град.бустинга, потому что, времени очень много проверяет."
      ]
    },
    {
      "cell_type": "markdown",
      "metadata": {
        "id": "7NqK4GzlrIfS"
      },
      "source": [
        "## Выводы"
      ]
    },
    {
      "cell_type": "markdown",
      "metadata": {
        "id": "wtAvuIX5rIfS"
      },
      "source": [
        "Проверим модель на тестовых данных"
      ]
    },
    {
      "cell_type": "code",
      "execution_count": null,
      "metadata": {
        "id": "DcZWNhKGrIfS",
        "outputId": "0fae36f3-fede-432b-e9b6-9824fbd394b4"
      },
      "outputs": [
        {
          "name": "stdout",
          "output_type": "stream",
          "text": [
            "f1_score: 0.7771878746360679\n"
          ]
        }
      ],
      "source": [
        "model = LogisticRegression(random_state=12345, C=10, max_iter=500)\n",
        "model.fit(X_train_features, y_train)\n",
        "prediction = model.predict(X_test_features)\n",
        "print('f1_score:', f1_score(y_test, prediction))"
      ]
    },
    {
      "cell_type": "markdown",
      "metadata": {
        "id": "DPVeVIXnrIfS"
      },
      "source": [
        "На тестовых данных модель показала хороший результат f1_score: 0.7771878746360679."
      ]
    },
    {
      "cell_type": "markdown",
      "metadata": {
        "id": "QAWOCIelrIfT"
      },
      "source": [
        "Мы получили навыки обработки, преобразования текста в признаки для обучения моделей.  \n",
        "Обучили модели для предсказывания результата токсичности комментария.  \n",
        "Лучший результат показала Логистическая регрессия без баланса f1_score= 0.7655589674357776, что согласно ТЗ удвлетворяет заказчика."
      ]
    }
  ],
  "metadata": {
    "ExecuteTimeLog": [
      {
        "duration": 1216,
        "start_time": "2023-04-22T08:33:42.014Z"
      },
      {
        "duration": 174,
        "start_time": "2023-04-22T08:33:43.232Z"
      },
      {
        "duration": 3663,
        "start_time": "2023-04-22T08:33:43.408Z"
      },
      {
        "duration": 9,
        "start_time": "2023-04-22T08:33:47.072Z"
      },
      {
        "duration": 69,
        "start_time": "2023-04-22T08:33:47.083Z"
      },
      {
        "duration": 45,
        "start_time": "2023-04-22T08:33:47.154Z"
      },
      {
        "duration": 16,
        "start_time": "2023-04-22T08:33:47.200Z"
      },
      {
        "duration": 14,
        "start_time": "2023-04-22T08:33:47.219Z"
      },
      {
        "duration": 9,
        "start_time": "2023-04-22T08:33:47.235Z"
      },
      {
        "duration": 12,
        "start_time": "2023-04-22T08:33:47.245Z"
      },
      {
        "duration": 5,
        "start_time": "2023-04-22T08:33:47.259Z"
      },
      {
        "duration": 80366,
        "start_time": "2023-04-22T08:33:47.265Z"
      },
      {
        "duration": 7,
        "start_time": "2023-04-22T08:35:07.633Z"
      },
      {
        "duration": 29,
        "start_time": "2023-04-22T08:35:07.642Z"
      },
      {
        "duration": 84,
        "start_time": "2023-04-22T08:35:07.672Z"
      },
      {
        "duration": 115,
        "start_time": "2023-04-22T08:35:07.758Z"
      },
      {
        "duration": 0,
        "start_time": "2023-04-22T08:35:07.874Z"
      },
      {
        "duration": 0,
        "start_time": "2023-04-22T08:35:07.876Z"
      },
      {
        "duration": 0,
        "start_time": "2023-04-22T08:35:07.876Z"
      },
      {
        "duration": 9,
        "start_time": "2023-04-22T08:38:25.331Z"
      },
      {
        "duration": 94,
        "start_time": "2023-04-22T08:38:26.581Z"
      },
      {
        "duration": 9,
        "start_time": "2023-04-22T08:38:28.336Z"
      },
      {
        "duration": 4,
        "start_time": "2023-04-22T08:40:40.811Z"
      },
      {
        "duration": 11,
        "start_time": "2023-04-22T08:40:45.859Z"
      },
      {
        "duration": 15,
        "start_time": "2023-04-22T08:40:56.017Z"
      },
      {
        "duration": 5449,
        "start_time": "2023-04-22T08:41:16.729Z"
      },
      {
        "duration": 8,
        "start_time": "2023-04-22T08:41:24.695Z"
      },
      {
        "duration": 13,
        "start_time": "2023-04-22T08:41:34.149Z"
      },
      {
        "duration": 3,
        "start_time": "2023-04-22T08:41:50.757Z"
      },
      {
        "duration": 57,
        "start_time": "2023-04-22T08:42:06.808Z"
      },
      {
        "duration": 68,
        "start_time": "2023-04-22T08:43:19.912Z"
      },
      {
        "duration": 68,
        "start_time": "2023-04-22T08:43:38.177Z"
      },
      {
        "duration": 63,
        "start_time": "2023-04-22T08:43:42.576Z"
      },
      {
        "duration": 57,
        "start_time": "2023-04-22T08:43:56.011Z"
      },
      {
        "duration": 522479,
        "start_time": "2023-04-22T08:44:35.540Z"
      },
      {
        "duration": 3,
        "start_time": "2023-04-22T08:53:54.621Z"
      },
      {
        "duration": 11,
        "start_time": "2023-04-22T08:53:57.127Z"
      },
      {
        "duration": 4,
        "start_time": "2023-04-22T08:54:22.456Z"
      },
      {
        "duration": 3,
        "start_time": "2023-04-22T08:54:53.424Z"
      },
      {
        "duration": 405401,
        "start_time": "2023-04-22T08:54:55.453Z"
      },
      {
        "duration": 3,
        "start_time": "2023-04-22T09:02:49.142Z"
      },
      {
        "duration": 1435750,
        "start_time": "2023-04-22T09:02:53.460Z"
      },
      {
        "duration": 1292134,
        "start_time": "2023-04-22T09:31:41.698Z"
      },
      {
        "duration": 9,
        "start_time": "2023-04-22T10:07:27.326Z"
      },
      {
        "duration": 43592,
        "start_time": "2023-04-22T10:07:40.414Z"
      },
      {
        "duration": 3,
        "start_time": "2023-04-22T10:14:43.385Z"
      },
      {
        "duration": 182,
        "start_time": "2023-04-22T10:14:47.242Z"
      },
      {
        "duration": 668,
        "start_time": "2023-04-22T10:14:49.195Z"
      },
      {
        "duration": 7,
        "start_time": "2023-04-22T10:14:51.634Z"
      },
      {
        "duration": 67,
        "start_time": "2023-04-22T10:14:52.942Z"
      },
      {
        "duration": 32,
        "start_time": "2023-04-22T10:14:54.020Z"
      },
      {
        "duration": 10,
        "start_time": "2023-04-22T10:14:56.009Z"
      },
      {
        "duration": 9,
        "start_time": "2023-04-22T10:15:16.180Z"
      },
      {
        "duration": 3,
        "start_time": "2023-04-22T10:15:17.836Z"
      },
      {
        "duration": 4,
        "start_time": "2023-04-22T10:15:19.354Z"
      },
      {
        "duration": 4,
        "start_time": "2023-04-22T10:15:20.952Z"
      },
      {
        "duration": 72676,
        "start_time": "2023-04-22T10:15:22.546Z"
      },
      {
        "duration": 7,
        "start_time": "2023-04-22T10:16:35.224Z"
      },
      {
        "duration": 6,
        "start_time": "2023-04-22T10:16:35.232Z"
      },
      {
        "duration": 88,
        "start_time": "2023-04-22T10:16:35.240Z"
      },
      {
        "duration": 4681,
        "start_time": "2023-04-22T10:16:35.330Z"
      },
      {
        "duration": 3,
        "start_time": "2023-04-22T10:16:40.013Z"
      },
      {
        "duration": 3,
        "start_time": "2023-04-22T10:17:46.250Z"
      },
      {
        "duration": 545835,
        "start_time": "2023-04-22T10:17:47.665Z"
      },
      {
        "duration": 1024122,
        "start_time": "2023-04-22T10:31:18.811Z"
      },
      {
        "duration": 118196,
        "start_time": "2023-04-22T10:48:31.007Z"
      },
      {
        "duration": 1243772,
        "start_time": "2023-04-22T10:51:21.634Z"
      },
      {
        "duration": 1293,
        "start_time": "2023-04-23T07:12:26.528Z"
      },
      {
        "duration": 335,
        "start_time": "2023-04-23T07:12:29.967Z"
      },
      {
        "duration": 2213,
        "start_time": "2023-04-23T07:12:31.422Z"
      },
      {
        "duration": 9,
        "start_time": "2023-04-23T07:12:33.636Z"
      },
      {
        "duration": 68,
        "start_time": "2023-04-23T07:12:34.954Z"
      },
      {
        "duration": 24,
        "start_time": "2023-04-23T07:12:36.811Z"
      },
      {
        "duration": 10,
        "start_time": "2023-04-23T07:12:38.342Z"
      },
      {
        "duration": 9,
        "start_time": "2023-04-23T07:12:40.179Z"
      },
      {
        "duration": 4,
        "start_time": "2023-04-23T07:12:41.330Z"
      },
      {
        "duration": 2,
        "start_time": "2023-04-23T07:12:43.021Z"
      },
      {
        "duration": 3,
        "start_time": "2023-04-23T07:12:46.650Z"
      },
      {
        "duration": 3,
        "start_time": "2023-04-23T07:13:00.464Z"
      },
      {
        "duration": 4,
        "start_time": "2023-04-23T07:13:02.243Z"
      },
      {
        "duration": 73720,
        "start_time": "2023-04-23T07:13:04.525Z"
      },
      {
        "duration": 6,
        "start_time": "2023-04-23T07:14:18.247Z"
      },
      {
        "duration": 6,
        "start_time": "2023-04-23T07:14:18.255Z"
      },
      {
        "duration": 60,
        "start_time": "2023-04-23T07:14:18.263Z"
      },
      {
        "duration": 4693,
        "start_time": "2023-04-23T07:14:18.324Z"
      },
      {
        "duration": 3,
        "start_time": "2023-04-23T07:14:23.019Z"
      },
      {
        "duration": 96659,
        "start_time": "2023-04-23T07:14:23.023Z"
      },
      {
        "duration": 3,
        "start_time": "2023-04-23T07:17:52.189Z"
      },
      {
        "duration": 3,
        "start_time": "2023-04-23T07:17:54.381Z"
      },
      {
        "duration": 3,
        "start_time": "2023-04-23T07:17:55.653Z"
      },
      {
        "duration": 4,
        "start_time": "2023-04-23T07:18:03.258Z"
      },
      {
        "duration": 1261,
        "start_time": "2023-04-23T07:18:05.144Z"
      },
      {
        "duration": 7,
        "start_time": "2023-04-23T07:18:06.717Z"
      },
      {
        "duration": 3,
        "start_time": "2023-04-23T07:18:18.724Z"
      },
      {
        "duration": 389,
        "start_time": "2023-04-23T07:18:25.543Z"
      },
      {
        "duration": 4,
        "start_time": "2023-04-23T07:18:51.514Z"
      },
      {
        "duration": 5,
        "start_time": "2023-04-23T07:18:56.024Z"
      },
      {
        "duration": 350,
        "start_time": "2023-04-23T07:18:59.190Z"
      },
      {
        "duration": 272,
        "start_time": "2023-04-23T07:19:26.454Z"
      },
      {
        "duration": 5,
        "start_time": "2023-04-23T07:19:35.963Z"
      },
      {
        "duration": 668716,
        "start_time": "2023-04-23T07:19:38.205Z"
      },
      {
        "duration": 6,
        "start_time": "2023-04-23T07:30:46.923Z"
      },
      {
        "duration": 5,
        "start_time": "2023-04-23T07:30:46.930Z"
      },
      {
        "duration": 67,
        "start_time": "2023-04-23T07:30:46.936Z"
      },
      {
        "duration": 4512,
        "start_time": "2023-04-23T07:30:47.004Z"
      },
      {
        "duration": 3,
        "start_time": "2023-04-23T07:30:51.518Z"
      },
      {
        "duration": 111225,
        "start_time": "2023-04-23T07:32:04.858Z"
      }
    ],
    "kernelspec": {
      "display_name": "Python 3 (ipykernel)",
      "language": "python",
      "name": "python3"
    },
    "language_info": {
      "codemirror_mode": {
        "name": "ipython",
        "version": 3
      },
      "file_extension": ".py",
      "mimetype": "text/x-python",
      "name": "python",
      "nbconvert_exporter": "python",
      "pygments_lexer": "ipython3",
      "version": "3.9.5"
    },
    "toc": {
      "base_numbering": 1,
      "nav_menu": {},
      "number_sections": true,
      "sideBar": true,
      "skip_h1_title": true,
      "title_cell": "Содержание",
      "title_sidebar": "Contents",
      "toc_cell": true,
      "toc_position": {
        "height": "calc(100% - 180px)",
        "left": "10px",
        "top": "150px",
        "width": "302.388px"
      },
      "toc_section_display": true,
      "toc_window_display": false
    },
    "colab": {
      "provenance": []
    }
  },
  "nbformat": 4,
  "nbformat_minor": 0
}